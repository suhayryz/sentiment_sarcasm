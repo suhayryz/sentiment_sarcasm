{
 "cells": [
  {
   "cell_type": "markdown",
   "metadata": {},
   "source": [
    "### 3. Extract punctuation marks for malay bilingual dataset"
   ]
  },
  {
   "cell_type": "code",
   "execution_count": 2,
   "metadata": {
    "collapsed": true
   },
   "outputs": [],
   "source": [
    "import nltk\n",
    "import pandas as pd\n",
    "import numpy as np\n",
    "import re\n",
    "import csv"
   ]
  },
  {
   "cell_type": "code",
   "execution_count": 3,
   "metadata": {
    "collapsed": true
   },
   "outputs": [],
   "source": [
    "pd.set_option('display.max_colwidth', 80)"
   ]
  },
  {
   "cell_type": "code",
   "execution_count": 4,
   "metadata": {
    "collapsed": false
   },
   "outputs": [
    {
     "data": {
      "text/plain": [
       "(1970, 2)"
      ]
     },
     "execution_count": 4,
     "metadata": {},
     "output_type": "execute_result"
    }
   ],
   "source": [
    "df = pd.read_csv('../datasets/mly1970-sarc(raw).csv', header= 0, encoding=\"utf-8\")\n",
    "df.shape"
   ]
  },
  {
   "cell_type": "code",
   "execution_count": 5,
   "metadata": {
    "collapsed": true
   },
   "outputs": [],
   "source": [
    "df.columns = ['comment','sarc_majority']"
   ]
  },
  {
   "cell_type": "code",
   "execution_count": 6,
   "metadata": {
    "collapsed": true
   },
   "outputs": [],
   "source": [
    "from nltk.tokenize import TweetTokenizer\n",
    "tknzr = TweetTokenizer(strip_handles=True, reduce_len=True)"
   ]
  },
  {
   "cell_type": "code",
   "execution_count": 7,
   "metadata": {
    "collapsed": false
   },
   "outputs": [
    {
     "data": {
      "text/html": [
       "<div>\n",
       "<style scoped>\n",
       "    .dataframe tbody tr th:only-of-type {\n",
       "        vertical-align: middle;\n",
       "    }\n",
       "\n",
       "    .dataframe tbody tr th {\n",
       "        vertical-align: top;\n",
       "    }\n",
       "\n",
       "    .dataframe thead th {\n",
       "        text-align: right;\n",
       "    }\n",
       "</style>\n",
       "<table border=\"1\" class=\"dataframe\">\n",
       "  <thead>\n",
       "    <tr style=\"text-align: right;\">\n",
       "      <th></th>\n",
       "      <th>comment</th>\n",
       "      <th>sarc_majority</th>\n",
       "    </tr>\n",
       "  </thead>\n",
       "  <tbody>\n",
       "    <tr>\n",
       "      <th>0</th>\n",
       "      <td>[Rakyat, akan, tanggung, lebih, banyak, la, nampaknya]</td>\n",
       "      <td>sarc</td>\n",
       "    </tr>\n",
       "    <tr>\n",
       "      <th>1</th>\n",
       "      <td>[Dah, ko, metedarah, duit, Rakyat, ,, nak, buat, belanja, besar, la, Lagi, ,...</td>\n",
       "      <td>non-sarc</td>\n",
       "    </tr>\n",
       "    <tr>\n",
       "      <th>2</th>\n",
       "      <td>[Tutup, tv, n, radio, ..., Jgn, dngar, janji, bajet, 2016, Dr, tangan, ghaib...</td>\n",
       "      <td>sarc</td>\n",
       "    </tr>\n",
       "    <tr>\n",
       "      <th>3</th>\n",
       "      <td>[Ya, lah, Ko, dah, dera, Rakyat, .., Bajet, besar, untuk, Rakyat, .., Bosan,...</td>\n",
       "      <td>non-sarc</td>\n",
       "    </tr>\n",
       "    <tr>\n",
       "      <th>4</th>\n",
       "      <td>[Oiii, ..., kerjaan, bn, .., ko, org, sdr, x, ., ?, Dh, lh, kerajaan, xde, d...</td>\n",
       "      <td>non-sarc</td>\n",
       "    </tr>\n",
       "    <tr>\n",
       "      <th>5</th>\n",
       "      <td>[Bertambah, lg, hutang, Negara, ..., diambil, oleh, tangan, ghaib, ...]</td>\n",
       "      <td>sarc</td>\n",
       "    </tr>\n",
       "    <tr>\n",
       "      <th>6</th>\n",
       "      <td>[Sejak, negara, merdeka, Pm, inilah, yg, paling, teruk, kalau, nak, dibandin...</td>\n",
       "      <td>non-sarc</td>\n",
       "    </tr>\n",
       "    <tr>\n",
       "      <th>7</th>\n",
       "      <td>[Pulang, kt, sape, ha, ?, ?, yg, meniaga, kcil, 2, bnyk, klua, duit, utk, gs...</td>\n",
       "      <td>sarc</td>\n",
       "    </tr>\n",
       "    <tr>\n",
       "      <th>8</th>\n",
       "      <td>[Pulang, la, sangattt]</td>\n",
       "      <td>sarc</td>\n",
       "    </tr>\n",
       "    <tr>\n",
       "      <th>9</th>\n",
       "      <td>[Kalau, nk, pulang, .., baik, x, yah, kutip, jer, dari, dulu, ..., Masa, kut...</td>\n",
       "      <td>sarc</td>\n",
       "    </tr>\n",
       "    <tr>\n",
       "      <th>10</th>\n",
       "      <td>[Kau, caya, ?]</td>\n",
       "      <td>sarc</td>\n",
       "    </tr>\n",
       "    <tr>\n",
       "      <th>11</th>\n",
       "      <td>[nak, bagi, balik, sama, sapa, rakyat, ka, atau, akaun, sendiri, .]</td>\n",
       "      <td>sarc</td>\n",
       "    </tr>\n",
       "    <tr>\n",
       "      <th>12</th>\n",
       "      <td>[Pulangkan, ke, poket, RM, ...]</td>\n",
       "      <td>sarc</td>\n",
       "    </tr>\n",
       "    <tr>\n",
       "      <th>13</th>\n",
       "      <td>[Hahaha, ..., Bagi, ambik, ., Itu, hak, rakyat, .]</td>\n",
       "      <td>sarc</td>\n",
       "    </tr>\n",
       "    <tr>\n",
       "      <th>14</th>\n",
       "      <td>[tahniah, alhamdulillah]</td>\n",
       "      <td>non-sarc</td>\n",
       "    </tr>\n",
       "    <tr>\n",
       "      <th>15</th>\n",
       "      <td>[Barua, kau, najib.nak, rakyat, pggil, hero, ..., kau, sengaja, tgguhkan, by...</td>\n",
       "      <td>non-sarc</td>\n",
       "    </tr>\n",
       "    <tr>\n",
       "      <th>16</th>\n",
       "      <td>[Lancauuu]</td>\n",
       "      <td>non-sarc</td>\n",
       "    </tr>\n",
       "    <tr>\n",
       "      <th>17</th>\n",
       "      <td>[Percaya, la, sgt, dgn, si, najib, .., bg, sikit, je, .., amik, balik, berga...</td>\n",
       "      <td>sarc</td>\n",
       "    </tr>\n",
       "    <tr>\n",
       "      <th>18</th>\n",
       "      <td>[Xbrbaloi, kerajaan, pulangkn, .., semua, naik, sbb, gst, .., semua, naik, b...</td>\n",
       "      <td>non-sarc</td>\n",
       "    </tr>\n",
       "    <tr>\n",
       "      <th>19</th>\n",
       "      <td>[Pi, mai, pi, mai, tang, tu, ja, ..]</td>\n",
       "      <td>sarc</td>\n",
       "    </tr>\n",
       "  </tbody>\n",
       "</table>\n",
       "</div>"
      ],
      "text/plain": [
       "                                                                            comment  \\\n",
       "0                            [Rakyat, akan, tanggung, lebih, banyak, la, nampaknya]   \n",
       "1   [Dah, ko, metedarah, duit, Rakyat, ,, nak, buat, belanja, besar, la, Lagi, ,...   \n",
       "2   [Tutup, tv, n, radio, ..., Jgn, dngar, janji, bajet, 2016, Dr, tangan, ghaib...   \n",
       "3   [Ya, lah, Ko, dah, dera, Rakyat, .., Bajet, besar, untuk, Rakyat, .., Bosan,...   \n",
       "4   [Oiii, ..., kerjaan, bn, .., ko, org, sdr, x, ., ?, Dh, lh, kerajaan, xde, d...   \n",
       "5           [Bertambah, lg, hutang, Negara, ..., diambil, oleh, tangan, ghaib, ...]   \n",
       "6   [Sejak, negara, merdeka, Pm, inilah, yg, paling, teruk, kalau, nak, dibandin...   \n",
       "7   [Pulang, kt, sape, ha, ?, ?, yg, meniaga, kcil, 2, bnyk, klua, duit, utk, gs...   \n",
       "8                                                            [Pulang, la, sangattt]   \n",
       "9   [Kalau, nk, pulang, .., baik, x, yah, kutip, jer, dari, dulu, ..., Masa, kut...   \n",
       "10                                                                   [Kau, caya, ?]   \n",
       "11              [nak, bagi, balik, sama, sapa, rakyat, ka, atau, akaun, sendiri, .]   \n",
       "12                                                  [Pulangkan, ke, poket, RM, ...]   \n",
       "13                               [Hahaha, ..., Bagi, ambik, ., Itu, hak, rakyat, .]   \n",
       "14                                                         [tahniah, alhamdulillah]   \n",
       "15  [Barua, kau, najib.nak, rakyat, pggil, hero, ..., kau, sengaja, tgguhkan, by...   \n",
       "16                                                                       [Lancauuu]   \n",
       "17  [Percaya, la, sgt, dgn, si, najib, .., bg, sikit, je, .., amik, balik, berga...   \n",
       "18  [Xbrbaloi, kerajaan, pulangkn, .., semua, naik, sbb, gst, .., semua, naik, b...   \n",
       "19                                             [Pi, mai, pi, mai, tang, tu, ja, ..]   \n",
       "\n",
       "   sarc_majority  \n",
       "0           sarc  \n",
       "1       non-sarc  \n",
       "2           sarc  \n",
       "3       non-sarc  \n",
       "4       non-sarc  \n",
       "5           sarc  \n",
       "6       non-sarc  \n",
       "7           sarc  \n",
       "8           sarc  \n",
       "9           sarc  \n",
       "10          sarc  \n",
       "11          sarc  \n",
       "12          sarc  \n",
       "13          sarc  \n",
       "14      non-sarc  \n",
       "15      non-sarc  \n",
       "16      non-sarc  \n",
       "17          sarc  \n",
       "18      non-sarc  \n",
       "19          sarc  "
      ]
     },
     "execution_count": 7,
     "metadata": {},
     "output_type": "execute_result"
    }
   ],
   "source": [
    "df['comment'] = df['comment'].apply(lambda t: tknzr.tokenize(t))\n",
    "df.head(20)"
   ]
  },
  {
   "cell_type": "code",
   "execution_count": 8,
   "metadata": {
    "collapsed": false
   },
   "outputs": [],
   "source": [
    "df.comment = df.comment.apply(lambda x: [t for t in x if re.match(r'([”?!\\'])', t)] or [0])"
   ]
  },
  {
   "cell_type": "code",
   "execution_count": 9,
   "metadata": {
    "collapsed": false
   },
   "outputs": [
    {
     "data": {
      "text/plain": [
       "0             [0]\n",
       "1             [0]\n",
       "2             [0]\n",
       "3             [0]\n",
       "4             [?]\n",
       "5             [0]\n",
       "6             [0]\n",
       "7          [?, ?]\n",
       "8             [0]\n",
       "9             [0]\n",
       "10            [?]\n",
       "11            [0]\n",
       "12            [0]\n",
       "13            [0]\n",
       "14            [0]\n",
       "15            [0]\n",
       "16            [0]\n",
       "17            [0]\n",
       "18      [!, !, !]\n",
       "19            [0]\n",
       "20            [0]\n",
       "21            [0]\n",
       "22            [0]\n",
       "23            [0]\n",
       "24      [!, !, !]\n",
       "25            [0]\n",
       "26            [0]\n",
       "27            [0]\n",
       "28      [!, !, !]\n",
       "29            [0]\n",
       "          ...    \n",
       "1940          [0]\n",
       "1941    [?, ?, ?]\n",
       "1942          [0]\n",
       "1943       [?, ?]\n",
       "1944          [0]\n",
       "1945          [0]\n",
       "1946          [0]\n",
       "1947          [0]\n",
       "1948          [0]\n",
       "1949          [0]\n",
       "1950          [0]\n",
       "1951          [0]\n",
       "1952          [0]\n",
       "1953          [0]\n",
       "1954          [!]\n",
       "1955       [?, ?]\n",
       "1956          [0]\n",
       "1957          [0]\n",
       "1958          [0]\n",
       "1959          [0]\n",
       "1960          [0]\n",
       "1961          [0]\n",
       "1962          [0]\n",
       "1963          [0]\n",
       "1964          [0]\n",
       "1965          [0]\n",
       "1966          [0]\n",
       "1967          [0]\n",
       "1968          [0]\n",
       "1969          [0]\n",
       "Name: comment, Length: 1970, dtype: object"
      ]
     },
     "execution_count": 9,
     "metadata": {},
     "output_type": "execute_result"
    }
   ],
   "source": [
    "df.comment"
   ]
  },
  {
   "cell_type": "code",
   "execution_count": 10,
   "metadata": {
    "collapsed": false
   },
   "outputs": [
    {
     "name": "stdout",
     "output_type": "stream",
     "text": [
      "  replacer punct\n",
      "0   punct1     ?\n",
      "1   punct2     !\n",
      "2   punct3     '\n"
     ]
    }
   ],
   "source": [
    "replace_df = pd.DataFrame({'replacer': {0: 'punct1', 1: 'punct2', 2: 'punct3'}, 'punct': {0: '?', 1: '!', 2: \"'\"}})\n",
    "print (replace_df)"
   ]
  },
  {
   "cell_type": "code",
   "execution_count": 11,
   "metadata": {
    "collapsed": false
   },
   "outputs": [
    {
     "name": "stdout",
     "output_type": "stream",
     "text": [
      "{'\\\\?': 'punct1', '\\\\!': 'punct2', \"\\\\'\": 'punct3'}\n"
     ]
    }
   ],
   "source": [
    "replace_df.punct = '\\\\' + replace_df.punct.apply(lambda x: x.format())\n",
    "d = replace_df.set_index('punct')['replacer'].to_dict()\n",
    "print (d)"
   ]
  },
  {
   "cell_type": "code",
   "execution_count": 12,
   "metadata": {
    "collapsed": false
   },
   "outputs": [
    {
     "name": "stdout",
     "output_type": "stream",
     "text": [
      "                       comment sarc_majority\n",
      "0                          [0]          sarc\n",
      "1                          [0]      non-sarc\n",
      "2                          [0]          sarc\n",
      "3                          [0]      non-sarc\n",
      "4                     [punct1]      non-sarc\n",
      "5                          [0]          sarc\n",
      "6                          [0]      non-sarc\n",
      "7             [punct1, punct1]          sarc\n",
      "8                          [0]          sarc\n",
      "9                          [0]          sarc\n",
      "10                    [punct1]          sarc\n",
      "11                         [0]          sarc\n",
      "12                         [0]          sarc\n",
      "13                         [0]          sarc\n",
      "14                         [0]      non-sarc\n",
      "15                         [0]      non-sarc\n",
      "16                         [0]      non-sarc\n",
      "17                         [0]          sarc\n",
      "18    [punct2, punct2, punct2]      non-sarc\n",
      "19                         [0]          sarc\n",
      "20                         [0]          sarc\n",
      "21                         [0]      non-sarc\n",
      "22                         [0]          sarc\n",
      "23                         [0]      non-sarc\n",
      "24    [punct2, punct2, punct2]      non-sarc\n",
      "25                         [0]          sarc\n",
      "26                         [0]      non-sarc\n",
      "27                         [0]      non-sarc\n",
      "28    [punct2, punct2, punct2]          sarc\n",
      "29                         [0]      non-sarc\n",
      "...                        ...           ...\n",
      "1940                       [0]      non-sarc\n",
      "1941  [punct1, punct1, punct1]      non-sarc\n",
      "1942                       [0]      non-sarc\n",
      "1943          [punct1, punct1]          sarc\n",
      "1944                       [0]      non-sarc\n",
      "1945                       [0]      non-sarc\n",
      "1946                       [0]      non-sarc\n",
      "1947                       [0]      non-sarc\n",
      "1948                       [0]      non-sarc\n",
      "1949                       [0]      non-sarc\n",
      "1950                       [0]      non-sarc\n",
      "1951                       [0]          sarc\n",
      "1952                       [0]      non-sarc\n",
      "1953                       [0]      non-sarc\n",
      "1954                  [punct2]      non-sarc\n",
      "1955          [punct1, punct1]      non-sarc\n",
      "1956                       [0]      non-sarc\n",
      "1957                       [0]      non-sarc\n",
      "1958                       [0]      non-sarc\n",
      "1959                       [0]      non-sarc\n",
      "1960                       [0]      non-sarc\n",
      "1961                       [0]      non-sarc\n",
      "1962                       [0]      non-sarc\n",
      "1963                       [0]          sarc\n",
      "1964                       [0]          sarc\n",
      "1965                       [0]          sarc\n",
      "1966                       [0]      non-sarc\n",
      "1967                       [0]      non-sarc\n",
      "1968                       [0]      non-sarc\n",
      "1969                       [0]          sarc\n",
      "\n",
      "[1970 rows x 2 columns]\n"
     ]
    }
   ],
   "source": [
    "df.comment = df.comment.apply(lambda x: pd.Series(x).astype(str).replace(d, regex=True).tolist())\n",
    "print (df)"
   ]
  },
  {
   "cell_type": "code",
   "execution_count": 13,
   "metadata": {
    "collapsed": true
   },
   "outputs": [],
   "source": [
    "df.to_csv('../datasets/mly1970-punc.csv', index=False)\n",
    "#replace and save to weka in librecalc"
   ]
  },
  {
   "cell_type": "code",
   "execution_count": null,
   "metadata": {
    "collapsed": true
   },
   "outputs": [],
   "source": []
  }
 ],
 "metadata": {
  "kernelspec": {
   "display_name": "Python 3",
   "language": "python",
   "name": "python3"
  },
  "language_info": {
   "codemirror_mode": {
    "name": "ipython",
    "version": 3
   },
   "file_extension": ".py",
   "mimetype": "text/x-python",
   "name": "python",
   "nbconvert_exporter": "python",
   "pygments_lexer": "ipython3",
   "version": "3.7.3"
  }
 },
 "nbformat": 4,
 "nbformat_minor": 2
}
