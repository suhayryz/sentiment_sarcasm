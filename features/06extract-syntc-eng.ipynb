{
 "cells": [
  {
   "cell_type": "markdown",
   "metadata": {},
   "source": [
    "### 6. Extract syntactic for english dataset"
   ]
  },
  {
   "cell_type": "code",
   "execution_count": 5,
   "metadata": {},
   "outputs": [],
   "source": [
    "# setup only\n",
    "#nltk.download('wordnet')\n",
    "#nltk.download('omw')"
   ]
  },
  {
   "cell_type": "code",
   "execution_count": 7,
   "metadata": {
    "collapsed": true
   },
   "outputs": [],
   "source": [
    "# libraries\n",
    "import pandas as pd\n",
    "import nltk\n",
    "from nltk import pos_tag, word_tokenize\n",
    "import numpy as np\n",
    "import re\n",
    "from nltk.tokenize import WordPunctTokenizer\n",
    "from nltk.tag import NgramTagger, SequentialBackoffTagger\n",
    "from nltk.corpus import wordnet, names\n",
    "from nltk.probability import FreqDist"
   ]
  },
  {
   "cell_type": "code",
   "execution_count": 8,
   "metadata": {
    "collapsed": false
   },
   "outputs": [
    {
     "data": {
      "text/plain": [
       "(1970, 2)"
      ]
     },
     "execution_count": 8,
     "metadata": {},
     "output_type": "execute_result"
    }
   ],
   "source": [
    "# load data\n",
    "df = pd.read_csv('../datasets/english1970_data.csv', header= 0, encoding=\"utf-8\")\n",
    "df.shape"
   ]
  },
  {
   "cell_type": "code",
   "execution_count": 9,
   "metadata": {
    "collapsed": false
   },
   "outputs": [],
   "source": [
    "# column label\n",
    "df.columns = ['comment','sarc_majority']"
   ]
  },
  {
   "cell_type": "code",
   "execution_count": 10,
   "metadata": {
    "collapsed": false
   },
   "outputs": [],
   "source": [
    "# tokenize\n",
    "from nltk.tokenize import TreebankWordTokenizer\n",
    "tokens= TreebankWordTokenizer()\n",
    "df['comment']= [tokens.tokenize(s) for s in df.comment]"
   ]
  },
  {
   "cell_type": "code",
   "execution_count": 11,
   "metadata": {
    "collapsed": false
   },
   "outputs": [
    {
     "data": {
      "text/plain": [
       "0                 [more, people, will, bear, it, appears]\n",
       "1       [have, you, greed, of, money, people, want, to...\n",
       "2       [radio, television, lid, do, not, hear, the, p...\n",
       "3       [yes, you, 're, whipping, people, is, a, great...\n",
       "4       [ooi, government, national, front, you, people...\n",
       "5       [national, debt, increased, again, taken, by, ...\n",
       "6       [since, independence, am, the, worst, is, if, ...\n",
       "7       [home, near, the, small, meniaga, who, ha, a, ...\n",
       "8                                        [home, is, very]\n",
       "9       [if, you, want, a, good, return, is, not, grea...\n",
       "10                                         [you, believe]\n",
       "11      [I, greet, the, people, of, the, same, or, kah...\n",
       "12                               [return, to, pocket, RM]\n",
       "13         [haha, to, take, the, rights, of, the, people]\n",
       "14                          [congratulations, thank, God]\n",
       "15      [Najib, barua, you, want, people, calling, you...\n",
       "16                                                [winch]\n",
       "17      [I, believe, very, little, with, the, najib, f...\n",
       "18      [not, worth, the, government, to, return, all,...\n",
       "19           [go, let, 's, go, let, 's, just, like, that]\n",
       "20      [taxes, collected, income, tax, proper, busine...\n",
       "21                      [even, if, it, 's, a, good, kind]\n",
       "22                         [haha, very, funny, statement]\n",
       "23      [we, do, not, want, money, ,, we, all, want, y...\n",
       "24                                                [trick]\n",
       "25                          [do, not, listen, can, trust]\n",
       "26      [this, shit, out, small, wince, wince, she, re...\n",
       "27             [the, ringgit, fell, against, the, people]\n",
       "28      [I, keep, the, original, budget, n, Sabah, and...\n",
       "29           [do, not, believe, me, piss, away, this, no]\n",
       "                              ...                        \n",
       "1940                                 [thanks, thank, God]\n",
       "1941    [unlucky, import, goods, all, have, increased,...\n",
       "1942                                 [thank, easy, n, ok]\n",
       "1943    [This, page, daily, news, to, news, sedapkan, ...\n",
       "1944                                              [thank]\n",
       "1945    [simple, thank, you, recover, from, the, first...\n",
       "1946                                  [thank, thank, God]\n",
       "1947                                              [thank]\n",
       "1948                                              [thank]\n",
       "1949       [you, are, not, exhausted, are, fed, it, well]\n",
       "1950    [Thanks, a, lot, also, increase, was, somewhat...\n",
       "1951                        [where, the, high, trees, to]\n",
       "1952                                               [good]\n",
       "1953      [thank, God, by, higher, salaries, this, month]\n",
       "1954            [RM, against, the, dollar, higher, again]\n",
       "1955    [haha, amused, to, hear, ringgit, closed, high...\n",
       "1956    [Thanks, hope, the, Malaysian, economy, to, fu...\n",
       "1957                                              [thank]\n",
       "1958                                              [thank]\n",
       "1959    [I, think, the, national, reserve, waning, of,...\n",
       "1960    [BNM, congratulations, and, congratulations, D...\n",
       "1961    [if, we, follow, the, Malaysian, opposition, i...\n",
       "1962                                              [thank]\n",
       "1963             [take, it, for, a, little, close, najib]\n",
       "1964                              [on, paper, only, coat]\n",
       "1965        [cement, the, new, loud, do, not, know, haha]\n",
       "1966    [our, country, is, still, strong, fundamental,...\n",
       "1967    [the, national, debt, also, point, to, how, mu...\n",
       "1968    [first, scene, soon, Malaysia, bankrupt, now, ...\n",
       "1969    [payable, b, just, because, some, people, use,...\n",
       "Name: comment, Length: 1970, dtype: object"
      ]
     },
     "execution_count": 11,
     "metadata": {},
     "output_type": "execute_result"
    }
   ],
   "source": [
    "df.comment"
   ]
  },
  {
   "cell_type": "code",
   "execution_count": 12,
   "metadata": {
    "collapsed": true
   },
   "outputs": [],
   "source": [
    "# wordnet tagger\n",
    "class WordNetTagger(SequentialBackoffTagger):\n",
    "    '''\n",
    "    >>> wt = WordNetTagger()\n",
    "    >>> wt.tag(['food', 'is', 'great'])\n",
    "    [('food', 'NN'), ('is', 'VB'), ('great', 'JJ')]\n",
    "    '''\n",
    "    def __init__(self, *args, **kwargs):\n",
    "        SequentialBackoffTagger.__init__(self, *args, **kwargs)\n",
    "        \n",
    "        self.wordnet_tag_map = {\n",
    "            'n': 'NN', #Noun\n",
    "            's': 'JJ', #Sat_Adjective\n",
    "            'a': 'JJ', #Adjective\n",
    "            'r': 'RB', #Adverb\n",
    "            'v': 'VB'  #Verb\n",
    "        }\n",
    "        \n",
    "    def choose_tag(self, tokens, index, history):\n",
    "        word = tokens[index]\n",
    "        fd = FreqDist()\n",
    "        \n",
    "        for synset in wordnet.synsets(word):\n",
    "            fd[synset.pos()] += 1\n",
    "        \n",
    "        if not fd: return None\n",
    "        return self.wordnet_tag_map.get(fd.max())"
   ]
  },
  {
   "cell_type": "code",
   "execution_count": 13,
   "metadata": {
    "collapsed": true
   },
   "outputs": [],
   "source": [
    "wn_tagger = WordNetTagger()"
   ]
  },
  {
   "cell_type": "code",
   "execution_count": 14,
   "metadata": {
    "collapsed": false
   },
   "outputs": [],
   "source": [
    "# tag with wordnet tagger\n",
    "df['comment'] = [wn_tagger.tag(word) for word in df.comment]"
   ]
  },
  {
   "cell_type": "code",
   "execution_count": 15,
   "metadata": {
    "collapsed": false
   },
   "outputs": [
    {
     "data": {
      "text/plain": [
       "0       [(more, JJ), (people, NN), (will, NN), (bear, ...\n",
       "1       [(have, VB), (you, None), (greed, NN), (of, No...\n",
       "2       [(radio, NN), (television, NN), (lid, NN), (do...\n",
       "3       [(yes, NN), (you, None), ('re, None), (whippin...\n",
       "4       [(ooi, None), (government, NN), (national, JJ)...\n",
       "5       [(national, JJ), (debt, NN), (increased, VB), ...\n",
       "6       [(since, None), (independence, NN), (am, VB), ...\n",
       "7       [(home, NN), (near, JJ), (the, None), (small, ...\n",
       "8                      [(home, NN), (is, VB), (very, JJ)]\n",
       "9       [(if, None), (you, None), (want, VB), (a, NN),...\n",
       "10                           [(you, None), (believe, VB)]\n",
       "11      [(I, NN), (greet, VB), (the, None), (people, N...\n",
       "12      [(return, VB), (to, None), (pocket, NN), (RM, ...\n",
       "13      [(haha, None), (to, None), (take, VB), (the, N...\n",
       "14        [(congratulations, NN), (thank, VB), (God, NN)]\n",
       "15      [(Najib, None), (barua, None), (you, None), (w...\n",
       "16                                          [(winch, NN)]\n",
       "17      [(I, NN), (believe, VB), (very, JJ), (little, ...\n",
       "18      [(not, RB), (worth, NN), (the, None), (governm...\n",
       "19      [(go, VB), (let, VB), ('s, None), (go, VB), (l...\n",
       "20      [(taxes, VB), (collected, VB), (income, NN), (...\n",
       "21      [(even, JJ), (if, None), (it, NN), ('s, None),...\n",
       "22      [(haha, None), (very, JJ), (funny, JJ), (state...\n",
       "23      [(we, None), (do, VB), (not, RB), (want, VB), ...\n",
       "24                                          [(trick, NN)]\n",
       "25      [(do, VB), (not, RB), (listen, VB), (can, NN),...\n",
       "26      [(this, None), (shit, NN), (out, JJ), (small, ...\n",
       "27      [(the, None), (ringgit, NN), (fell, VB), (agai...\n",
       "28      [(I, NN), (keep, VB), (the, None), (original, ...\n",
       "29      [(do, VB), (not, RB), (believe, VB), (me, NN),...\n",
       "                              ...                        \n",
       "1940               [(thanks, NN), (thank, VB), (God, NN)]\n",
       "1941    [(unlucky, JJ), (import, NN), (goods, NN), (al...\n",
       "1942         [(thank, VB), (easy, JJ), (n, NN), (ok, NN)]\n",
       "1943    [(This, None), (page, NN), (daily, JJ), (news,...\n",
       "1944                                        [(thank, VB)]\n",
       "1945    [(simple, JJ), (thank, VB), (you, None), (reco...\n",
       "1946                [(thank, VB), (thank, VB), (God, NN)]\n",
       "1947                                        [(thank, VB)]\n",
       "1948                                        [(thank, VB)]\n",
       "1949    [(you, None), (are, VB), (not, RB), (exhausted...\n",
       "1950    [(Thanks, NN), (a, NN), (lot, NN), (also, RB),...\n",
       "1951    [(where, None), (the, None), (high, NN), (tree...\n",
       "1952                                         [(good, JJ)]\n",
       "1953    [(thank, VB), (God, NN), (by, RB), (higher, JJ...\n",
       "1954    [(RM, None), (against, None), (the, None), (do...\n",
       "1955    [(haha, None), (amused, VB), (to, None), (hear...\n",
       "1956    [(Thanks, NN), (hope, NN), (the, None), (Malay...\n",
       "1957                                        [(thank, VB)]\n",
       "1958                                        [(thank, VB)]\n",
       "1959    [(I, NN), (think, VB), (the, None), (national,...\n",
       "1960    [(BNM, None), (congratulations, NN), (and, Non...\n",
       "1961    [(if, None), (we, None), (follow, VB), (the, N...\n",
       "1962                                        [(thank, VB)]\n",
       "1963    [(take, VB), (it, NN), (for, None), (a, NN), (...\n",
       "1964      [(on, RB), (paper, NN), (only, RB), (coat, NN)]\n",
       "1965    [(cement, NN), (the, None), (new, JJ), (loud, ...\n",
       "1966    [(our, None), (country, NN), (is, VB), (still,...\n",
       "1967    [(the, None), (national, JJ), (debt, NN), (als...\n",
       "1968    [(first, NN), (scene, NN), (soon, RB), (Malays...\n",
       "1969    [(payable, NN), (b, NN), (just, RB), (because,...\n",
       "Name: comment, Length: 1970, dtype: object"
      ]
     },
     "execution_count": 15,
     "metadata": {},
     "output_type": "execute_result"
    }
   ],
   "source": [
    "df.comment"
   ]
  },
  {
   "cell_type": "code",
   "execution_count": 16,
   "metadata": {
    "collapsed": false
   },
   "outputs": [
    {
     "name": "stdout",
     "output_type": "stream",
     "text": [
      "                                                comment sarc_majority\n",
      "0     [(more,), (people,), (will,), (bear,), (it,), ...          sarc\n",
      "1     [(have,), (greed,), (money,), (people,), (want...      non-sarc\n",
      "2     [(radio,), (television,), (lid,), (do,), (not,...          sarc\n",
      "3     [(yes,), (whipping,), (people,), (is,), (a,), ...      non-sarc\n",
      "4     [(government,), (national,), (front,), (people...      non-sarc\n",
      "5     [(national,), (debt,), (increased,), (again,),...          sarc\n",
      "6     [(independence,), (am,), (worst,), (is,), (wan...      non-sarc\n",
      "7     [(home,), (near,), (small,), (who,), (ha,), (a...          sarc\n",
      "8                             [(home,), (is,), (very,)]          sarc\n",
      "9     [(want,), (a,), (good,), (return,), (is,), (no...          sarc\n",
      "10                                         [(believe,)]          sarc\n",
      "11    [(I,), (greet,), (people,), (same,), (or,), (o...          sarc\n",
      "12                               [(return,), (pocket,)]          sarc\n",
      "13                      [(take,), (rights,), (people,)]          sarc\n",
      "14               [(congratulations,), (thank,), (God,)]      non-sarc\n",
      "15    [(want,), (people,), (calling,), (a,), (hero,)...      non-sarc\n",
      "16                                           [(winch,)]      non-sarc\n",
      "17    [(I,), (believe,), (very,), (little,), (only,)...          sarc\n",
      "18    [(not,), (worth,), (government,), (return,), (...      non-sarc\n",
      "19     [(go,), (let,), (go,), (let,), (just,), (like,)]          sarc\n",
      "20    [(taxes,), (collected,), (income,), (tax,), (p...          sarc\n",
      "21             [(even,), (it,), (a,), (good,), (kind,)]      non-sarc\n",
      "22                    [(very,), (funny,), (statement,)]          sarc\n",
      "23    [(do,), (not,), (want,), (money,), (all,), (wa...      non-sarc\n",
      "24                                           [(trick,)]      non-sarc\n",
      "25         [(do,), (not,), (listen,), (can,), (trust,)]          sarc\n",
      "26    [(shit,), (out,), (small,), (wince,), (wince,)...      non-sarc\n",
      "27                     [(ringgit,), (fell,), (people,)]      non-sarc\n",
      "28    [(I,), (keep,), (original,), (budget,), (n,), ...          sarc\n",
      "29    [(do,), (not,), (believe,), (me,), (piss,), (a...      non-sarc\n",
      "...                                                 ...           ...\n",
      "1940                      [(thanks,), (thank,), (God,)]      non-sarc\n",
      "1941  [(unlucky,), (import,), (goods,), (all,), (hav...      non-sarc\n",
      "1942                   [(thank,), (easy,), (n,), (ok,)]      non-sarc\n",
      "1943    [(page,), (daily,), (news,), (news,), (heart,)]          sarc\n",
      "1944                                         [(thank,)]      non-sarc\n",
      "1945  [(simple,), (thank,), (recover,), (first,), (k...      non-sarc\n",
      "1946                       [(thank,), (thank,), (God,)]      non-sarc\n",
      "1947                                         [(thank,)]      non-sarc\n",
      "1948                                         [(thank,)]      non-sarc\n",
      "1949  [(are,), (not,), (exhausted,), (are,), (fed,),...      non-sarc\n",
      "1950  [(Thanks,), (a,), (lot,), (also,), (increase,)...      non-sarc\n",
      "1951                                [(high,), (trees,)]          sarc\n",
      "1952                                          [(good,)]      non-sarc\n",
      "1953  [(thank,), (God,), (by,), (higher,), (salaries...      non-sarc\n",
      "1954                   [(dollar,), (higher,), (again,)]      non-sarc\n",
      "1955  [(amused,), (hear,), (ringgit,), (closed,), (h...      non-sarc\n",
      "1956  [(Thanks,), (hope,), (Malaysian,), (economy,),...      non-sarc\n",
      "1957                                         [(thank,)]      non-sarc\n",
      "1958                                         [(thank,)]      non-sarc\n",
      "1959  [(I,), (think,), (national,), (reserve,), (wan...      non-sarc\n",
      "1960    [(congratulations,), (congratulations,), (pm,)]      non-sarc\n",
      "1961  [(follow,), (Malaysian,), (opposition,), (is,)...      non-sarc\n",
      "1962                                         [(thank,)]      non-sarc\n",
      "1963        [(take,), (it,), (a,), (little,), (close,)]          sarc\n",
      "1964                [(on,), (paper,), (only,), (coat,)]          sarc\n",
      "1965  [(cement,), (new,), (loud,), (do,), (not,), (k...          sarc\n",
      "1966  [(country,), (is,), (still,), (strong,), (fund...      non-sarc\n",
      "1967  [(national,), (debt,), (also,), (point,), (muc...      non-sarc\n",
      "1968  [(first,), (scene,), (soon,), (Malaysia,), (ba...      non-sarc\n",
      "1969  [(payable,), (b,), (just,), (some,), (people,)...          sarc\n",
      "\n",
      "[1970 rows x 2 columns]\n"
     ]
    }
   ],
   "source": [
    "# select only tagged token\n",
    "df.comment = df.comment.apply(lambda x: [(t[0],) for t in x if t[1]=='NN' or t[1]=='JJ' or t[1]=='RB' or t[1]=='VB'])\n",
    "df.loc[df.comment.apply(len) == 0, 'comment'] = [[np.nan]]\n",
    "print (df)"
   ]
  },
  {
   "cell_type": "code",
   "execution_count": 17,
   "metadata": {},
   "outputs": [],
   "source": [
    "# remove re special character\n",
    "df.comment = df.comment.astype(str).str.replace(r\"[^a-zA-Z ]+\", \" \").str.split(expand=False)"
   ]
  },
  {
   "cell_type": "code",
   "execution_count": 18,
   "metadata": {},
   "outputs": [
    {
     "name": "stdout",
     "output_type": "stream",
     "text": [
      "                                                comment sarc_majority\n",
      "0               [more, people, will, bear, it, appears]          sarc\n",
      "1     [have, greed, money, people, want, do, big, sp...      non-sarc\n",
      "2     [radio, television, lid, do, not, hear, promis...          sarc\n",
      "3     [yes, whipping, people, is, a, great, budget, ...      non-sarc\n",
      "4     [government, national, front, people, aware, n...      non-sarc\n",
      "5     [national, debt, increased, again, taken, by, ...          sarc\n",
      "6     [independence, am, worst, is, want, compare, p...      non-sarc\n",
      "7     [home, near, small, who, ha, a, lot, money, ou...          sarc\n",
      "8                                      [home, is, very]          sarc\n",
      "9     [want, a, good, return, is, not, great, quotes...          sarc\n",
      "10                                            [believe]          sarc\n",
      "11           [I, greet, people, same, or, own, account]          sarc\n",
      "12                                     [return, pocket]          sarc\n",
      "13                               [take, rights, people]          sarc\n",
      "14                        [congratulations, thank, God]      non-sarc\n",
      "15    [want, people, calling, a, hero, deliberately,...      non-sarc\n",
      "16                                              [winch]      non-sarc\n",
      "17    [I, believe, very, little, only, pushes, back,...          sarc\n",
      "18    [not, worth, government, return, all, more, re...      non-sarc\n",
      "19                       [go, let, go, let, just, like]          sarc\n",
      "20    [taxes, collected, income, tax, proper, busine...          sarc\n",
      "21                            [even, it, a, good, kind]      non-sarc\n",
      "22                             [very, funny, statement]          sarc\n",
      "23            [do, not, want, money, all, want, resign]      non-sarc\n",
      "24                                              [trick]      non-sarc\n",
      "25                        [do, not, listen, can, trust]          sarc\n",
      "26    [shit, out, small, wince, wince, revealed, lar...      non-sarc\n",
      "27                              [ringgit, fell, people]      non-sarc\n",
      "28    [I, keep, original, budget, n, Sabah, Sarawak,...          sarc\n",
      "29               [do, not, believe, me, piss, away, no]      non-sarc\n",
      "...                                                 ...           ...\n",
      "1940                               [thanks, thank, God]      non-sarc\n",
      "1941  [unlucky, import, goods, all, have, increased,...      non-sarc\n",
      "1942                               [thank, easy, n, ok]      non-sarc\n",
      "1943                   [page, daily, news, news, heart]          sarc\n",
      "1944                                            [thank]      non-sarc\n",
      "1945  [simple, thank, recover, first, kind, ridiculo...      non-sarc\n",
      "1946                                [thank, thank, God]      non-sarc\n",
      "1947                                            [thank]      non-sarc\n",
      "1948                                            [thank]      non-sarc\n",
      "1949          [are, not, exhausted, are, fed, it, well]      non-sarc\n",
      "1950  [Thanks, a, lot, also, increase, was, somewhat...      non-sarc\n",
      "1951                                      [high, trees]          sarc\n",
      "1952                                             [good]      non-sarc\n",
      "1953          [thank, God, by, higher, salaries, month]      non-sarc\n",
      "1954                            [dollar, higher, again]      non-sarc\n",
      "1955  [amused, hear, ringgit, closed, high, dollar, ...      non-sarc\n",
      "1956  [Thanks, hope, Malaysian, economy, fully, reco...      non-sarc\n",
      "1957                                            [thank]      non-sarc\n",
      "1958                                            [thank]      non-sarc\n",
      "1959  [I, think, national, reserve, waning, previous...      non-sarc\n",
      "1960             [congratulations, congratulations, pm]      non-sarc\n",
      "1961  [follow, Malaysian, opposition, is, bankrupt, ...      non-sarc\n",
      "1962                                            [thank]      non-sarc\n",
      "1963                       [take, it, a, little, close]          sarc\n",
      "1964                            [on, paper, only, coat]          sarc\n",
      "1965                 [cement, new, loud, do, not, know]          sarc\n",
      "1966  [country, is, still, strong, fundamental, cong...      non-sarc\n",
      "1967        [national, debt, also, point, much, amount]      non-sarc\n",
      "1968  [first, scene, soon, Malaysia, bankrupt, now, ...      non-sarc\n",
      "1969  [payable, b, just, some, people, use, rolling,...          sarc\n",
      "\n",
      "[1970 rows x 2 columns]\n"
     ]
    }
   ],
   "source": [
    "print (df)"
   ]
  },
  {
   "cell_type": "code",
   "execution_count": 19,
   "metadata": {},
   "outputs": [],
   "source": [
    "# save to \n",
    "df.to_csv('../datasets/english1970_syntc.csv', index=False)"
   ]
  },
  {
   "cell_type": "code",
   "execution_count": null,
   "metadata": {},
   "outputs": [],
   "source": []
  },
  {
   "cell_type": "code",
   "execution_count": null,
   "metadata": {},
   "outputs": [],
   "source": []
  }
 ],
 "metadata": {
  "kernelspec": {
   "display_name": "Python 3",
   "language": "python",
   "name": "python3"
  },
  "language_info": {
   "codemirror_mode": {
    "name": "ipython",
    "version": 3
   },
   "file_extension": ".py",
   "mimetype": "text/x-python",
   "name": "python",
   "nbconvert_exporter": "python",
   "pygments_lexer": "ipython3",
   "version": "3.7.3"
  }
 },
 "nbformat": 4,
 "nbformat_minor": 2
}
