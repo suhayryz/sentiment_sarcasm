{
 "cells": [
  {
   "cell_type": "markdown",
   "metadata": {},
   "source": [
    "### 5b. Extract idiosyncratic for english dataset"
   ]
  },
  {
   "cell_type": "code",
   "execution_count": 12,
   "metadata": {
    "collapsed": true
   },
   "outputs": [],
   "source": [
    "# libraries\n",
    "import nltk\n",
    "import pandas as pd\n",
    "import numpy as np\n",
    "import csv\n",
    "import re"
   ]
  },
  {
   "cell_type": "code",
   "execution_count": 13,
   "metadata": {
    "collapsed": false
   },
   "outputs": [
    {
     "data": {
      "text/plain": [
       "(1970, 2)"
      ]
     },
     "execution_count": 13,
     "metadata": {},
     "output_type": "execute_result"
    }
   ],
   "source": [
    "# load data\n",
    "df = pd.read_csv('../datasets/english1970_data.csv', header= 0, encoding=\"utf-8\")\n",
    "df.shape"
   ]
  },
  {
   "cell_type": "code",
   "execution_count": 14,
   "metadata": {
    "collapsed": true
   },
   "outputs": [],
   "source": [
    "# set max each column\n",
    "df.columns = ['comment','sarc_majority']\n",
    "pd.set_option('display.max_colwidth', 50)"
   ]
  },
  {
   "cell_type": "code",
   "execution_count": 15,
   "metadata": {
    "collapsed": false
   },
   "outputs": [
    {
     "name": "stdout",
     "output_type": "stream",
     "text": [
      "                                                comment sarc_majority\n",
      "0                      more people will bear it appears          sarc\n",
      "1     have you greed of money people want to do big ...      non-sarc\n",
      "2     radio television lid do not hear the promise o...          sarc\n",
      "3     yes you're whipping people is a great budget f...      non-sarc\n",
      "4     ooi government national front you people aware...      non-sarc\n",
      "5     national debt increased again taken by the inv...          sarc\n",
      "6     since independence am the worst is if you want...      non-sarc\n",
      "7     home near the small meniaga who ha a lot of mo...          sarc\n",
      "8                                          home is very          sarc\n",
      "9     if you want a good return is not great quotes ...          sarc\n",
      "10                                          you believe          sarc\n",
      "11    I greet the people of the same or kah own account          sarc\n",
      "12                                  return to pocket RM          sarc\n",
      "13                haha to take the rights of the people          sarc\n",
      "14                            congratulations thank God      non-sarc\n",
      "15    Najib barua you want people calling you a hero...      non-sarc\n",
      "16                                                winch      non-sarc\n",
      "17    I believe very little with the najib for only ...          sarc\n",
      "18    not worth the government to return all the mor...      non-sarc\n",
      "19                     go let's go let's just like that          sarc\n",
      "20    taxes collected income tax proper business tax...          sarc\n",
      "21                             even if it's a good kind      non-sarc\n",
      "22                            haha very funny statement          sarc\n",
      "23    we do not want money, we all want you to Najib...      non-sarc\n",
      "24                                                trick      non-sarc\n",
      "25                              do not listen can trust          sarc\n",
      "26    this shit out small wince wince she revealed l...      non-sarc\n",
      "27                  the ringgit fell against the people      non-sarc\n",
      "28    I keep the original budget n Sabah and Sarawak...          sarc\n",
      "29                  do not believe me piss away this no      non-sarc\n",
      "...                                                 ...           ...\n",
      "1940                                   thanks thank God      non-sarc\n",
      "1941  unlucky import goods all have increased the pr...      non-sarc\n",
      "1942                                    thank easy n ok      non-sarc\n",
      "1943        This page daily news to news sedapkan heart          sarc\n",
      "1944                                              thank      non-sarc\n",
      "1945  simple thank you recover from the first kind o...      non-sarc\n",
      "1946                                    thank thank God      non-sarc\n",
      "1947                                              thank      non-sarc\n",
      "1948                                              thank      non-sarc\n",
      "1949              you are not exhausted are fed it well      non-sarc\n",
      "1950  Thanks a lot also increase was somewhat higher...      non-sarc\n",
      "1951                            where the high trees to          sarc\n",
      "1952                                               good      non-sarc\n",
      "1953            thank God by higher salaries this month      non-sarc\n",
      "1954                 RM against the dollar higher again      non-sarc\n",
      "1955  haha amused to hear ringgit closed high agains...      non-sarc\n",
      "1956  Thanks hope the Malaysian economy to fully rec...      non-sarc\n",
      "1957                                              thank      non-sarc\n",
      "1958                                              thank      non-sarc\n",
      "1959  I think the national reserve waning of the pre...      non-sarc\n",
      "1960  BNM congratulations and congratulations Datuk ...      non-sarc\n",
      "1961  if we follow the Malaysian opposition is bankr...      non-sarc\n",
      "1962                                              thank      non-sarc\n",
      "1963                   take it for a little close najib          sarc\n",
      "1964                                 on paper only coat          sarc\n",
      "1965               cement the new loud do not know haha          sarc\n",
      "1966  our country is still strong fundamental congra...      non-sarc\n",
      "1967    the national debt also point to how much amount      non-sarc\n",
      "1968  first scene soon Malaysia bankrupt now silent ...      non-sarc\n",
      "1969  payable b just because some people use for rol...          sarc\n",
      "\n",
      "[1970 rows x 2 columns]\n"
     ]
    }
   ],
   "source": [
    "print(df)"
   ]
  },
  {
   "cell_type": "code",
   "execution_count": 16,
   "metadata": {
    "collapsed": false
   },
   "outputs": [
    {
     "data": {
      "text/html": [
       "<div>\n",
       "<style scoped>\n",
       "    .dataframe tbody tr th:only-of-type {\n",
       "        vertical-align: middle;\n",
       "    }\n",
       "\n",
       "    .dataframe tbody tr th {\n",
       "        vertical-align: top;\n",
       "    }\n",
       "\n",
       "    .dataframe thead th {\n",
       "        text-align: right;\n",
       "    }\n",
       "</style>\n",
       "<table border=\"1\" class=\"dataframe\">\n",
       "  <thead>\n",
       "    <tr style=\"text-align: right;\">\n",
       "      <th></th>\n",
       "      <th>phrase</th>\n",
       "      <th>replacer</th>\n",
       "    </tr>\n",
       "  </thead>\n",
       "  <tbody>\n",
       "    <tr>\n",
       "      <th>0</th>\n",
       "      <td>lot of money</td>\n",
       "      <td>idsync1</td>\n",
       "    </tr>\n",
       "    <tr>\n",
       "      <th>1</th>\n",
       "      <td>list of gst</td>\n",
       "      <td>idsync2</td>\n",
       "    </tr>\n",
       "    <tr>\n",
       "      <th>2</th>\n",
       "      <td>people at work</td>\n",
       "      <td>idsync3</td>\n",
       "    </tr>\n",
       "    <tr>\n",
       "      <th>3</th>\n",
       "      <td>noise in facebook</td>\n",
       "      <td>idsync4</td>\n",
       "    </tr>\n",
       "    <tr>\n",
       "      <th>4</th>\n",
       "      <td>story on paper</td>\n",
       "      <td>idsync5</td>\n",
       "    </tr>\n",
       "  </tbody>\n",
       "</table>\n",
       "</div>"
      ],
      "text/plain": [
       "              phrase replacer\n",
       "0       lot of money  idsync1\n",
       "1        list of gst  idsync2\n",
       "2     people at work  idsync3\n",
       "3  noise in facebook  idsync4\n",
       "4     story on paper  idsync5"
      ]
     },
     "execution_count": 16,
     "metadata": {},
     "output_type": "execute_result"
    }
   ],
   "source": [
    "# set idiosyncratic\n",
    "replace_df = pd.read_csv('../stopwords/english_idsync.csv', sep=',', quoting=csv.QUOTE_NONE,\n",
    "                           names=[\"phrase\", \"replacer\"])\n",
    "replace_df.head()"
   ]
  },
  {
   "cell_type": "code",
   "execution_count": 17,
   "metadata": {
    "collapsed": false
   },
   "outputs": [],
   "source": [
    "# replace with idiosyncratic\n",
    "for phrase, replacer in replace_df.itertuples(index=False,name=None):\n",
    "    df.comment = df.comment.str.replace((phrase),replacer)"
   ]
  },
  {
   "cell_type": "code",
   "execution_count": 18,
   "metadata": {
    "collapsed": false
   },
   "outputs": [
    {
     "name": "stdout",
     "output_type": "stream",
     "text": [
      "0                        more people will bear it appears\n",
      "1       have you greed of money people want to do big ...\n",
      "2       radio television lid do not hear the promise o...\n",
      "3       yes you're whipping people is a great budget f...\n",
      "4       ooi government national front you people aware...\n",
      "5       national debt increased again taken by the inv...\n",
      "6       since independence am the worst is if you want...\n",
      "7       home near the small meniaga who ha a idsync1 o...\n",
      "8                                            home is very\n",
      "9       if you want a good return is not great quotes ...\n",
      "10                                            you believe\n",
      "11      I greet the people of the same or kah own account\n",
      "12                                    return to pocket RM\n",
      "13                  haha to take the rights of the people\n",
      "14                              congratulations thank God\n",
      "15      Najib barua you want people calling you a hero...\n",
      "16                                                  winch\n",
      "17      I believe very little with the najib for only ...\n",
      "18      not worth the government to return all the mor...\n",
      "19                       go let's go let's just like that\n",
      "20      taxes collected income tax proper business tax...\n",
      "21                               even if it's a good kind\n",
      "22                              haha very funny statement\n",
      "23      we do not want money, we all want you to Najib...\n",
      "24                                                  trick\n",
      "25                                do not listen can trust\n",
      "26      this shit out small wince wince she revealed l...\n",
      "27                    the ringgit fell against the people\n",
      "28      I keep the original budget n Sabah and Sarawak...\n",
      "29                    do not believe me piss away this no\n",
      "                              ...                        \n",
      "1940                                     thanks thank God\n",
      "1941    unlucky import goods all have increased the pr...\n",
      "1942                                      thank easy n ok\n",
      "1943          This page daily news to news sedapkan heart\n",
      "1944                                                thank\n",
      "1945    simple thank you recover from the first kind o...\n",
      "1946                                      thank thank God\n",
      "1947                                                thank\n",
      "1948                                                thank\n",
      "1949                you are not exhausted are fed it well\n",
      "1950    Thanks a lot also increase was somewhat higher...\n",
      "1951                              where the high trees to\n",
      "1952                                                 good\n",
      "1953              thank God by higher salaries this month\n",
      "1954                   RM against the dollar higher again\n",
      "1955    haha amused to hear ringgit closed high agains...\n",
      "1956    Thanks hope the Malaysian economy to fully rec...\n",
      "1957                                                thank\n",
      "1958                                                thank\n",
      "1959    I think the national reserve waning of the pre...\n",
      "1960    BNM congratulations and congratulations Datuk ...\n",
      "1961    if we follow the Malaysian opposition is bankr...\n",
      "1962                                                thank\n",
      "1963                     take it for a little close najib\n",
      "1964                                   on paper only coat\n",
      "1965                 cement the new loud do not know haha\n",
      "1966    our country is still strong fundamental congra...\n",
      "1967      the national debt also point to how much amount\n",
      "1968    first scene soon Malaysia bankrupt now silent ...\n",
      "1969    payable b just because some people use for rol...\n",
      "Name: comment, Length: 1970, dtype: object\n"
     ]
    }
   ],
   "source": [
    "print(df.comment)"
   ]
  },
  {
   "cell_type": "code",
   "execution_count": 19,
   "metadata": {
    "collapsed": true
   },
   "outputs": [],
   "source": [
    "# token and split\n",
    "df.columns = ['comment','sarc_majority']\n",
    "df['comment'] = df['comment'].str.lower().str.split()"
   ]
  },
  {
   "cell_type": "code",
   "execution_count": 20,
   "metadata": {
    "collapsed": false
   },
   "outputs": [],
   "source": [
    "# extract only idiosyncratic group\n",
    "df.comment = df.comment.apply(lambda x: [t for t in x if re.match('idsync[0-9]+$', t)] or [np.nan])"
   ]
  },
  {
   "cell_type": "code",
   "execution_count": 21,
   "metadata": {
    "collapsed": false
   },
   "outputs": [
    {
     "name": "stdout",
     "output_type": "stream",
     "text": [
      "        comment sarc_majority\n",
      "0         [nan]          sarc\n",
      "1         [nan]      non-sarc\n",
      "2         [nan]          sarc\n",
      "3         [nan]      non-sarc\n",
      "4         [nan]      non-sarc\n",
      "5         [nan]          sarc\n",
      "6         [nan]      non-sarc\n",
      "7     [idsync1]          sarc\n",
      "8         [nan]          sarc\n",
      "9         [nan]          sarc\n",
      "10        [nan]          sarc\n",
      "11        [nan]          sarc\n",
      "12        [nan]          sarc\n",
      "13        [nan]          sarc\n",
      "14        [nan]      non-sarc\n",
      "15        [nan]      non-sarc\n",
      "16        [nan]      non-sarc\n",
      "17        [nan]          sarc\n",
      "18        [nan]      non-sarc\n",
      "19        [nan]          sarc\n",
      "20        [nan]          sarc\n",
      "21        [nan]      non-sarc\n",
      "22        [nan]          sarc\n",
      "23        [nan]      non-sarc\n",
      "24        [nan]      non-sarc\n",
      "25        [nan]          sarc\n",
      "26        [nan]      non-sarc\n",
      "27        [nan]      non-sarc\n",
      "28        [nan]          sarc\n",
      "29        [nan]      non-sarc\n",
      "...         ...           ...\n",
      "1940      [nan]      non-sarc\n",
      "1941      [nan]      non-sarc\n",
      "1942      [nan]      non-sarc\n",
      "1943      [nan]          sarc\n",
      "1944      [nan]      non-sarc\n",
      "1945      [nan]      non-sarc\n",
      "1946      [nan]      non-sarc\n",
      "1947      [nan]      non-sarc\n",
      "1948      [nan]      non-sarc\n",
      "1949      [nan]      non-sarc\n",
      "1950      [nan]      non-sarc\n",
      "1951      [nan]          sarc\n",
      "1952      [nan]      non-sarc\n",
      "1953      [nan]      non-sarc\n",
      "1954      [nan]      non-sarc\n",
      "1955      [nan]      non-sarc\n",
      "1956      [nan]      non-sarc\n",
      "1957      [nan]      non-sarc\n",
      "1958      [nan]      non-sarc\n",
      "1959      [nan]      non-sarc\n",
      "1960      [nan]      non-sarc\n",
      "1961      [nan]      non-sarc\n",
      "1962      [nan]      non-sarc\n",
      "1963      [nan]          sarc\n",
      "1964      [nan]          sarc\n",
      "1965      [nan]          sarc\n",
      "1966      [nan]      non-sarc\n",
      "1967      [nan]      non-sarc\n",
      "1968      [nan]      non-sarc\n",
      "1969      [nan]          sarc\n",
      "\n",
      "[1970 rows x 2 columns]\n"
     ]
    }
   ],
   "source": [
    "print (df)"
   ]
  },
  {
   "cell_type": "code",
   "execution_count": 22,
   "metadata": {
    "collapsed": false
   },
   "outputs": [],
   "source": [
    "# save to \n",
    "df.to_csv('../datasets/english1970_idsync.csv', index=False)"
   ]
  },
  {
   "cell_type": "code",
   "execution_count": null,
   "metadata": {},
   "outputs": [],
   "source": []
  }
 ],
 "metadata": {
  "kernelspec": {
   "display_name": "Python 3",
   "language": "python",
   "name": "python3"
  },
  "language_info": {
   "codemirror_mode": {
    "name": "ipython",
    "version": 3
   },
   "file_extension": ".py",
   "mimetype": "text/x-python",
   "name": "python",
   "nbconvert_exporter": "python",
   "pygments_lexer": "ipython3",
   "version": "3.7.3"
  }
 },
 "nbformat": 4,
 "nbformat_minor": 2
}
